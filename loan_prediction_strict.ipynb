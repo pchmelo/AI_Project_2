{
 "cells": [
  {
   "cell_type": "markdown",
   "id": "72484eb2",
   "metadata": {},
   "source": [
    "# Loan Prediction\n",
    "\n",
    "### Developed by:\n",
    "\n",
    "1. Tiago Pinheiro - 202205295\n",
    "2. Tiago Rocha    - 202005428\n",
    "3. Vasco Melo     - 202207564"
   ]
  },
  {
   "cell_type": "code",
   "execution_count": null,
   "id": "903c5108",
   "metadata": {},
   "outputs": [],
   "source": [
    "#load dataset\n",
    "import pandas as pd\n",
    "\n",
    "test_loan_dataset = pd.read_csv('data/train.csv')\n",
    "test_loan_dataset = pd.read_csv('data/train.csv')\n",
    "\n",
    "\n",
    "test_loan_dataset.head()"
   ]
  },
  {
   "cell_type": "code",
   "execution_count": null,
   "id": "7dcdc0f3",
   "metadata": {},
   "outputs": [],
   "source": [
    "%matplotlib inline\n",
    "\n",
    "import matplotlib.pyplot as plt\n",
    "import seaborn as sb\n",
    "\n",
    "sb.pairplot(test_loan_dataset.dropna(), hue='loan_status')"
   ]
  }
 ],
 "metadata": {
  "kernelspec": {
   "display_name": "ia_project_2",
   "language": "python",
   "name": "python3"
  },
  "language_info": {
   "codemirror_mode": {
    "name": "ipython",
    "version": 3
   },
   "file_extension": ".py",
   "mimetype": "text/x-python",
   "name": "python",
   "nbconvert_exporter": "python",
   "pygments_lexer": "ipython3",
   "version": "3.12.9"
  }
 },
 "nbformat": 4,
 "nbformat_minor": 5
}
